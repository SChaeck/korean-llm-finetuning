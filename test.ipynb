{
 "cells": [
  {
   "cell_type": "code",
   "execution_count": 5,
   "metadata": {},
   "outputs": [
    {
     "name": "stderr",
     "output_type": "stream",
     "text": [
      "Loading checkpoint shards: 100%|██████████| 5/5 [00:05<00:00,  1.08s/it]\n"
     ]
    }
   ],
   "source": [
    "# # Load model directly\n",
    "# from transformers import AutoTokenizer, AutoModelForCausalLM\n",
    "# import torch\n",
    "\n",
    "# tokenizer = AutoTokenizer.from_pretrained(\"yanolja/EEVE-Korean-Instruct-10.8B-v1.0\")\n",
    "# model = AutoModelForCausalLM.from_pretrained(\n",
    "#     \"Upstage/SOLAR-10.7B-Instruct-v1.0\",\n",
    "#     device_map=\"auto\",\n",
    "#     torch_dtype=torch.float16,\n",
    "# )"
   ]
  },
  {
   "cell_type": "code",
   "execution_count": 17,
   "metadata": {},
   "outputs": [],
   "source": [
    "# prompt_template = \"\"\"A chat between a curious user and an artificial intelligence assistant. The assistant gives helpful, detailed, and polite answers to the user's questions.\n",
    "# Human: {prompt}\n",
    "# Assistant:\"\"\"\n",
    "\n",
    "# prompt = prompt_template.format(\n",
    "#     prompt=\"\"\"### System: \n",
    "# 너는 복잡하고 어려운 판결문들을 정보 약자나, 발달장애인이 이해할 수 있도록 변환해주는 쉬운 판결문 변환기야. 아래에 제시되는 판결문을 명령에 따라 쉬운 판결문으로 바꿔줘. 존댓말을 사용해\n",
    "\n",
    "# ### 판결문:\n",
    "# 불복신청 허용여부에 관하여 민사소송법 제409조의 일반규정에 따라 항고할 수 있다고 보아야 하고 성질상 즉시항고가 된다고 보아야 하며 그 결정에 대한 항고는 성질상 재항고가 된다고 보아야 할 것이다.\\n원심법원이 항고장에 보증의 제공이 있음을 증명하는 서류를 첨부하지 아니하였다 하여 항고장을 각하하였음은 정당한 것으로 인정되고 재항고이유는 받아들일 수 없는 것이다.\n",
    "\n",
    "# ### 명령:\n",
    "# 1. 이 판결문이 전하고자 하는 주요한 의미를 모두 나열해줘. \n",
    "# 2. 그 의미를 바탕으로 청소년에게 설명하듯이 아주 아주 쉬운 문장으로 풀어서 작성해줘. 이때 존댓말 구어체를 사용하고, 동사 위주의 짧은 문장으로 구성해줘.\n",
    "# 3. 이후에는 청소년의 마음으로 글을 다시 읽어보고 어려운 점을 나열해줘. 특히 청소년의 어휘력으로 어려운 단어를 위주로 알려줘.\n",
    "# 4. 어려운 점으로 작성된 내용을 다시 최대한 쉽게쉽게 변환해줘. 뜻만이 아니라 필요하다면 비유를 사용해도 돼.\n",
    "# 5. 최종적으로, 청소년이 어려워 했던 내용을 쉽게 변환해서 전체 내용을 쉬운 판결문으로 변환한 형태를 적어주면 돼. 이때 존댓말 구어체를 사용하고 동사 위주의 짧은 문장으로 하나의 문단을 구성해. \"\"\"\n",
    "#     )"
   ]
  },
  {
   "cell_type": "code",
   "execution_count": 18,
   "metadata": {},
   "outputs": [
    {
     "name": "stderr",
     "output_type": "stream",
     "text": [
      "Setting `pad_token_id` to `eos_token_id`:32000 for open-end generation.\n"
     ]
    },
    {
     "name": "stdout",
     "output_type": "stream",
     "text": [
      "<s> A chat between a curious user and an artificial intelligence assistant. The assistant gives helpful, detailed, and polite answers to the user's questions.\n",
      "Human: ### System: \n",
      "너는 복잡하고 어려운 판결문들을 정보 약자나, 발달장애인이 이해할 수 있도록 변환해주는 쉬운 판결문 변환기야. 아래에 제시되는 판결문을 명령에 따라 쉬운 판결문으로 바꿔줘. 존댓말을 사용해\n",
      "\n",
      "### 판결문:\n",
      "불복신청 허용여부에 관하여 민사소송법 제409조의 일반규정에 따라 항고할 수 있다고 보아야 하고 성질상 즉시항고가 된다고 보아야 하며 그 결정에 대한 항고는 성질상 재항고가 된다고 보아야 할 것이다.\n",
      "원심법원이 항고장에 보증의 제공이 있음을 증명하는 서류를 첨부하지 아니하였다 하여 항고장을 각하하였음은 정당한 것으로 인정되고 재항고이유는 받아들일 수 없는 것이다.\n",
      "\n",
      "### 명령:\n",
      "1. 이 판결문이 전하고자 하는 주요한 의미를 모두 나열해줘. \n",
      "2. 그 의미를 바탕으로 청소년에게 설명하듯이 아주 아주 쉬운 문장으로 풀어서 작성해줘. 이때 존댓말 구어체를 사용하고, 동사 위주의 짧은 문장으로 구성해줘.\n",
      "3. 이후에는 청소년의 마음으로 글을 다시 읽어보고 어려운 점을 나열해줘. 특히 청소년의 어휘력으로 어려운 단어를 위주로 알려줘.\n",
      "4. 어려운 점으로 작성된 내용을 다시 최대한 쉽게쉽게 변환해줘. 뜻만이 아니라 필요하다면 비유를 사용해도 돼.\n",
      "5. 최종적으로, 청소년이 어려워 했던 내용을 쉽게 변환해서 전체 내용을 쉬운 판결문으로 변환한 형태를 적어주면 돼. 이때 존댓말 구어체를 사용하고 동사 위주의 짧은 문장으로 하나의 문단을 구성해. \n",
      "Assistant:  1. 이 판결문은 항고와 재항고에 관한 규칙과 절차에 대해 이야기하고 있습니다. 항고란 법원의 결정에 동의하지 않을 때 하는 항소이고, 재항고는 항고에 대한 항소입니다.\n",
      "\n",
      "2. 이 판결문은 항고와 재항고에 관한 규칙과 절차에 대해 이야기하고 있어요. 항고란 법원의 결정에 동의하지 않을 때 하는 항소이고, 재항고는 항고에 대한 항소예요.\n",
      "\n",
      "3. 청소년들이 어려워할 수 있는 단어들:\n",
      "- 항고\n",
      "- 재항고\n",
      "- 항고장\n",
      "- 보증\n",
      "- 각하\n",
      "- 결정\n",
      "- 성질상\n",
      "- 민사소송법\n",
      "- 즉시항고\n",
      "- 일반규정\n",
      "\n",
      "4. 쉽게 변환:\n",
      "\n",
      "이 판결문은 항고와 재항고에 관한 규칙과 절차에 대해 이야기하고 있어요. 항고란 법원의 결정에 동의하지 않을 때 하는 항소이고, 재항고는 항고에 대한 항소예요.\n",
      "\n",
      "항고란 법원의 결정에 동의하지 않을 때 하는 항소예요. 항고장을 제출할 때는 보증의 제공이 있음을 증명하는 서류를 첨부해야 해요. 항고장에 보증의 제공이 있음을 증명하는 서류를 첨부하지 않으면 항고장은 각하될 수 있어요.\n",
      "\n",
      "재항고는 항고에 대한 항소예요. 재항고이유는 받아들일 수 없을 수 있어요.\n",
      "\n",
      "5. 청소년이 어려워했던 내용을 쉽게 변환한 판결문:\n",
      "\n",
      "이 판결문은 항고와 재항고에 관한 규칙과 절차에 대해 이야기하고 있어요. 항고란 법원의 결정에 동의하지 않을 때 하는 항소이고, 재항고는 항고에 대한 항소예요.\n",
      "\n",
      "항고란 법원의 결정에 동의하지 않을 때 하는 항소예요. 항고장을 제출할 때는 보증의 제공이 있음을 증명하는 서류를 첨부해야 해요. 항고장에 보증의 제공이 있음을 증명하는 서류를 첨부하지 않으면 항고장은 각하될 수 있어요.\n",
      "\n",
      "재항고는 항고에 대한 항소예요. 재항고이유는 받아들일 수 없을 수 있어요.<|im_end|>\n"
     ]
    }
   ],
   "source": [
    "# inputs = tokenizer(prompt, return_tensors=\"pt\").to(model.device) \n",
    "# from transformers import TextStreamer\n",
    "# text_streamer = TextStreamer(tokenizer)\n",
    "\n",
    "# _ = outputs = model.generate(**inputs, streamer = text_streamer, use_cache=True, max_length=4096)\n",
    "\n",
    "# # output_text = tokenizer.decode(outputs[0]) \n"
   ]
  },
  {
   "cell_type": "code",
   "execution_count": 3,
   "metadata": {},
   "outputs": [
    {
     "name": "stderr",
     "output_type": "stream",
     "text": [
      "Special tokens have been added in the vocabulary, make sure the associated word embeddings are fine-tuned or trained.\n",
      "Loading checkpoint shards: 100%|██████████| 4/4 [00:02<00:00,  1.60it/s]\n"
     ]
    }
   ],
   "source": [
    "from transformers import AutoTokenizer, AutoModelForCausalLM\n",
    "import torch\n",
    "\n",
    "model_id = \"beomi/Llama-3-Open-Ko-8B-Instruct-preview\"\n",
    "\n",
    "tokenizer = AutoTokenizer.from_pretrained(model_id)\n",
    "model = AutoModelForCausalLM.from_pretrained(\n",
    "    model_id,\n",
    "    torch_dtype=\"auto\",\n",
    "    device_map=\"auto\",\n",
    ")"
   ]
  },
  {
   "cell_type": "code",
   "execution_count": 6,
   "metadata": {},
   "outputs": [
    {
     "name": "stderr",
     "output_type": "stream",
     "text": [
      "The attention mask and the pad token id were not set. As a consequence, you may observe unexpected behavior. Please pass your input's `attention_mask` to obtain reliable results.\n",
      "Setting `pad_token_id` to `eos_token_id`:128001 for open-end generation.\n"
     ]
    },
    {
     "name": "stdout",
     "output_type": "stream",
     "text": [
      "궁금하신 점을 갖게 된 것 같아요! 극장 의자 밑에는 여러 가지 이유로 구멍이 있을 수 있습니다. 일반적으로는 배선이나 시설물 등을 설치하거나 점검하기 위해 구멍을 뚫는 경우가 많습니다. 또한, 의자의 구조를 강화하거나, 음향 시설물을 설치하는 경우도 있습니다. 또한, 예술작품으로서의 구멍도 있을 수 있습니다. 구멍을 통해 공간을 재해석하거나, 시각적으로 새로운 것을 보여주기 위해 설치하는 경우도 있습니다. 이러한 구멍들은 주로 극장에서 공연을 위한 준비를 위한 경우가 많습니다. 구멍의 크기, 모양, 위치는 공연의 종류와 목적에 따라 다릅니다. 공연장의 주인장이나 디자이너는 구멍의 위치, 크기를 적절하게 조정하여 공연장의 분위기를 변화시킬 수 있습니다. 주로 무대 위에서 배우의 움직임을 가려내거나, 특정한 효과를 주기 위해 설치합니다. 하지만, 일반 관객의 시야를 방해하거나 안전을 위협하는 구멍은 아닐 것입니다. 그밖에 구멍은 예술적으로 의미를 주거나 새로운 경험을 제공할 수 있습니다. 구멍의 존재 이유는 다양할 수 있습니다. 그러니 구멍을 보면서 생각을 자극받는 시간이 될 수 있습니다.\n"
     ]
    }
   ],
   "source": [
    "messages = [\n",
    "    {\"role\": \"system\", \"content\": \"친절한 챗봇으로서 상대방의 요청에 최대한 자세하고 친절하게 답하자. 모든 대답은 한국어(Korean)으로 대답해줘.\"},\n",
    "    {\"role\": \"user\", \"content\": \"극장 의자 밑에는 왜 구멍이 있을까요?\"},\n",
    "]\n",
    "\n",
    "input_ids = tokenizer.apply_chat_template(\n",
    "    messages,\n",
    "    add_generation_prompt=True,\n",
    "    return_tensors=\"pt\"\n",
    ").to(model.device)\n",
    "\n",
    "terminators = [\n",
    "    tokenizer.eos_token_id,\n",
    "    tokenizer.convert_tokens_to_ids(\"<|eot_id|>\")\n",
    "]\n",
    "\n",
    "outputs = model.generate(\n",
    "    input_ids,\n",
    "    max_new_tokens=512,\n",
    "    eos_token_id=terminators,\n",
    "    do_sample=True,\n",
    "    temperature=1,\n",
    "    top_p=0.9,\n",
    ")\n",
    "response = outputs[0][input_ids.shape[-1]:]\n",
    "print(tokenizer.decode(response, skip_special_tokens=True))\n"
   ]
  }
 ],
 "metadata": {
  "kernelspec": {
   "display_name": "kollm",
   "language": "python",
   "name": "python3"
  },
  "language_info": {
   "codemirror_mode": {
    "name": "ipython",
    "version": 3
   },
   "file_extension": ".py",
   "mimetype": "text/x-python",
   "name": "python",
   "nbconvert_exporter": "python",
   "pygments_lexer": "ipython3",
   "version": "3.11.9"
  }
 },
 "nbformat": 4,
 "nbformat_minor": 2
}
