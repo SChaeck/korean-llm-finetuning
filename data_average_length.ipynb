{
 "cells": [
  {
   "cell_type": "code",
   "execution_count": 10,
   "metadata": {},
   "outputs": [
    {
     "name": "stderr",
     "output_type": "stream",
     "text": [
      "Processing JSONL files: 100%|██████████| 1/1 [00:07<00:00,  7.11s/it]"
     ]
    },
    {
     "name": "stdout",
     "output_type": "stream",
     "text": [
      "Average length of 'text' in dt/merged_output_test.jsonl: 119.89378994165045\n"
     ]
    },
    {
     "name": "stderr",
     "output_type": "stream",
     "text": [
      "\n"
     ]
    }
   ],
   "source": [
    "import os\n",
    "import json\n",
    "import chardet\n",
    "from tqdm import tqdm\n",
    "\n",
    "def has_required_keys(json_obj, required_keys):\n",
    "    return all(key in json_obj for key in required_keys)\n",
    "\n",
    "def detect_encoding(file_path):\n",
    "    with open(file_path, 'rb') as f:\n",
    "        result = chardet.detect(f.read())\n",
    "        return result['encoding']\n",
    "\n",
    "def calculate_average_length(texts):\n",
    "    total_length = sum(len(text) for text in texts)\n",
    "    return total_length / len(texts) if texts else 0\n",
    "\n",
    "def process_jsonl_files(input_folder, required_keys):\n",
    "    # 모든 파일 경로를 리스트에 저장\n",
    "    jsonl_files = []\n",
    "    for root, dirs, files in os.walk(input_folder):\n",
    "        for file in files:\n",
    "            if file.endswith('.jsonl'):\n",
    "                jsonl_files.append(os.path.join(root, file))\n",
    "    \n",
    "    # tqdm을 사용하여 진행 상태 표시\n",
    "    for file_path in tqdm(jsonl_files, desc=\"Processing JSONL files\"):\n",
    "        try:\n",
    "            encoding = detect_encoding(file_path)\n",
    "            texts = []\n",
    "            with open(file_path, 'r', encoding=encoding) as infile:\n",
    "                for line in infile:\n",
    "                    try:\n",
    "                        json_obj = json.loads(line.strip())\n",
    "                        if has_required_keys(json_obj, required_keys):\n",
    "                            texts.append(json_obj[\"text\"])\n",
    "                    except json.JSONDecodeError:\n",
    "                        print(f\"Error decoding JSON from file {file_path}: {line.strip()}\")\n",
    "            average_length = calculate_average_length(texts)\n",
    "            print(f\"Average length of 'text' in {file_path}: {average_length}\")\n",
    "        except Exception as e:\n",
    "            print(f\"Error reading file {file_path}: {e}\")\n",
    "\n",
    "# 사용 예시\n",
    "input_folder = 'dt'  # 순회할 폴더 경로를 입력하세요.\n",
    "required_keys = ['text']  # 필요한 키를 입력하세요.\n",
    "\n",
    "process_jsonl_files(input_folder, required_keys)\n"
   ]
  },
  {
   "cell_type": "code",
   "execution_count": 6,
   "metadata": {},
   "outputs": [
    {
     "name": "stdout",
     "output_type": "stream",
     "text": [
      "Average length of 'text' in Bingsu/ko_alpaca_data (train split): 29.0\n"
     ]
    }
   ],
   "source": [
    "from datasets import load_dataset\n",
    "\n",
    "def calculate_average_length(texts):\n",
    "    total_length = sum(len(text) for text in texts)\n",
    "    return total_length / len(texts) if texts else 0\n",
    "\n",
    "def get_average_text_length(dataset_name, split='train'):\n",
    "    # 허깅페이스에서 데이터셋 불러오기\n",
    "    dataset = load_dataset(dataset_name, split=split)\n",
    "\n",
    "    # \"text\" 칼럼 추출\n",
    "    inst = dataset['instruction']\n",
    "    inp = dataset['input']\n",
    "    out = dataset['output']\n",
    "\n",
    "    # 평균 길이 계산\n",
    "    average_inst = calculate_average_length(inst)\n",
    "    average_inp = calculate_average_length(inst)\n",
    "    average_out = calculate_average_length(inst)\n",
    "    \n",
    "    average = (average_inst + average_inp + average_out) // 3\n",
    "\n",
    "    print(f\"Average length of 'text' in {dataset_name} ({split} split): {average}\")\n",
    "\n",
    "# 사용 예시\n",
    "dataset_name = 'Bingsu/ko_alpaca_data'  # 데이터셋 이름을 입력하세요 (예: 'ag_news', 'imdb', 등)\n",
    "split = 'train'  # 사용할 데이터셋 분할 (예: 'train', 'test', 등)\n",
    "\n",
    "get_average_text_length(dataset_name, split)\n"
   ]
  },
  {
   "cell_type": "code",
   "execution_count": null,
   "metadata": {},
   "outputs": [],
   "source": []
  }
 ],
 "metadata": {
  "kernelspec": {
   "display_name": "kollm",
   "language": "python",
   "name": "python3"
  },
  "language_info": {
   "codemirror_mode": {
    "name": "ipython",
    "version": 3
   },
   "file_extension": ".py",
   "mimetype": "text/x-python",
   "name": "python",
   "nbconvert_exporter": "python",
   "pygments_lexer": "ipython3",
   "version": "3.11.9"
  }
 },
 "nbformat": 4,
 "nbformat_minor": 2
}
